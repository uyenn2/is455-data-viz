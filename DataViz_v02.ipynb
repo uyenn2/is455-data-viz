{
 "cells": [
  {
   "cell_type": "code",
   "execution_count": 1,
   "id": "eebfeabb-aff7-4f91-a928-6e6ec3f17521",
   "metadata": {
    "tags": []
   },
   "outputs": [],
   "source": [
    "import pandas as pd\n",
    "import matplotlib.pyplot as plt\n",
    "import numpy as np\n",
    "import ipywidgets"
   ]
  },
  {
   "cell_type": "code",
   "execution_count": 2,
   "id": "16353540-01f4-4290-89d9-d9f7d947ed2b",
   "metadata": {
    "tags": []
   },
   "outputs": [
    {
     "name": "stderr",
     "output_type": "stream",
     "text": [
      "C:\\Users\\14109\\AppData\\Local\\Temp\\ipykernel_20856\\3450903877.py:1: DtypeWarning: Columns (10) have mixed types. Specify dtype option on import or set low_memory=False.\n",
      "  df = pd.read_csv(r\"C:\\Users\\14109\\Downloads\\global_power_plant_database_v_1_3\\global_power_plant_database.csv\")\n"
     ]
    },
    {
     "data": {
      "text/plain": [
       "Index(['country', 'country_long', 'name', 'gppd_idnr', 'capacity_mw',\n",
       "       'latitude', 'longitude', 'primary_fuel', 'other_fuel1', 'other_fuel2',\n",
       "       'other_fuel3', 'commissioning_year', 'owner', 'source', 'url',\n",
       "       'geolocation_source', 'wepp_id', 'year_of_capacity_data',\n",
       "       'generation_gwh_2013', 'generation_gwh_2014', 'generation_gwh_2015',\n",
       "       'generation_gwh_2016', 'generation_gwh_2017', 'generation_gwh_2018',\n",
       "       'generation_gwh_2019', 'generation_data_source',\n",
       "       'estimated_generation_gwh_2013', 'estimated_generation_gwh_2014',\n",
       "       'estimated_generation_gwh_2015', 'estimated_generation_gwh_2016',\n",
       "       'estimated_generation_gwh_2017', 'estimated_generation_note_2013',\n",
       "       'estimated_generation_note_2014', 'estimated_generation_note_2015',\n",
       "       'estimated_generation_note_2016', 'estimated_generation_note_2017'],\n",
       "      dtype='object')"
      ]
     },
     "execution_count": 2,
     "metadata": {},
     "output_type": "execute_result"
    }
   ],
   "source": [
    "df = pd.read_csv(r\"C:\\Users\\14109\\Downloads\\global_power_plant_database_v_1_3\\global_power_plant_database.csv\")\n",
    "df.columns"
   ]
  },
  {
   "cell_type": "code",
   "execution_count": 58,
   "id": "da108897-5e7d-4dde-9ccf-b8004ef52517",
   "metadata": {
    "tags": []
   },
   "outputs": [],
   "source": [
    "top_10 = df2 = df.groupby('country_long')['capacity_mw'].sum().to_frame().reset_index().sort_values(by = 'capacity_mw', ascending = False).head(10)"
   ]
  },
  {
   "cell_type": "code",
   "execution_count": 59,
   "id": "246d01e4-63c2-439a-af9b-e3ec81e85223",
   "metadata": {
    "tags": []
   },
   "outputs": [
    {
     "data": {
      "text/html": [
       "<div>\n",
       "<style scoped>\n",
       "    .dataframe tbody tr th:only-of-type {\n",
       "        vertical-align: middle;\n",
       "    }\n",
       "\n",
       "    .dataframe tbody tr th {\n",
       "        vertical-align: top;\n",
       "    }\n",
       "\n",
       "    .dataframe thead th {\n",
       "        text-align: right;\n",
       "    }\n",
       "</style>\n",
       "<table border=\"1\" class=\"dataframe\">\n",
       "  <thead>\n",
       "    <tr style=\"text-align: right;\">\n",
       "      <th></th>\n",
       "      <th>country_long</th>\n",
       "      <th>capacity_mw</th>\n",
       "    </tr>\n",
       "  </thead>\n",
       "  <tbody>\n",
       "    <tr>\n",
       "      <th>30</th>\n",
       "      <td>China</td>\n",
       "      <td>1.415067e+06</td>\n",
       "    </tr>\n",
       "    <tr>\n",
       "      <th>158</th>\n",
       "      <td>United States of America</td>\n",
       "      <td>1.204638e+06</td>\n",
       "    </tr>\n",
       "    <tr>\n",
       "      <th>67</th>\n",
       "      <td>India</td>\n",
       "      <td>3.160885e+05</td>\n",
       "    </tr>\n",
       "    <tr>\n",
       "      <th>125</th>\n",
       "      <td>Russia</td>\n",
       "      <td>2.282200e+05</td>\n",
       "    </tr>\n",
       "    <tr>\n",
       "      <th>75</th>\n",
       "      <td>Japan</td>\n",
       "      <td>2.153659e+05</td>\n",
       "    </tr>\n",
       "    <tr>\n",
       "      <th>19</th>\n",
       "      <td>Brazil</td>\n",
       "      <td>1.475893e+05</td>\n",
       "    </tr>\n",
       "    <tr>\n",
       "      <th>26</th>\n",
       "      <td>Canada</td>\n",
       "      <td>1.435787e+05</td>\n",
       "    </tr>\n",
       "    <tr>\n",
       "      <th>57</th>\n",
       "      <td>Germany</td>\n",
       "      <td>1.120404e+05</td>\n",
       "    </tr>\n",
       "    <tr>\n",
       "      <th>52</th>\n",
       "      <td>France</td>\n",
       "      <td>1.106159e+05</td>\n",
       "    </tr>\n",
       "    <tr>\n",
       "      <th>136</th>\n",
       "      <td>South Korea</td>\n",
       "      <td>9.947268e+04</td>\n",
       "    </tr>\n",
       "  </tbody>\n",
       "</table>\n",
       "</div>"
      ],
      "text/plain": [
       "                 country_long   capacity_mw\n",
       "30                      China  1.415067e+06\n",
       "158  United States of America  1.204638e+06\n",
       "67                      India  3.160885e+05\n",
       "125                    Russia  2.282200e+05\n",
       "75                      Japan  2.153659e+05\n",
       "19                     Brazil  1.475893e+05\n",
       "26                     Canada  1.435787e+05\n",
       "57                    Germany  1.120404e+05\n",
       "52                     France  1.106159e+05\n",
       "136               South Korea  9.947268e+04"
      ]
     },
     "execution_count": 59,
     "metadata": {},
     "output_type": "execute_result"
    }
   ],
   "source": [
    "top_10"
   ]
  },
  {
   "cell_type": "code",
   "execution_count": 60,
   "id": "0909d31f-7893-4ec3-9eba-b872af4e01c6",
   "metadata": {
    "tags": []
   },
   "outputs": [
    {
     "data": {
      "application/vnd.jupyter.widget-view+json": {
       "model_id": "24c637b8b2c1492f849add4f1b94e7a0",
       "version_major": 2,
       "version_minor": 0
      },
      "text/plain": [
       "interactive(children=(Dropdown(description='country', options=('China', 'United States of America', 'India', '…"
      ]
     },
     "metadata": {},
     "output_type": "display_data"
    }
   ],
   "source": [
    "options = list(df2['country_long'])\n",
    "@ipywidgets.interact(country = options)\n",
    "def update_pie_chart(country):\n",
    "    top10_countries_total = df2[df2['country_long'] != country]['capacity_mw'].sum() #calculate the sum of all cap except for the selected country\n",
    "    selected_country_cap = df2[df2['country_long'] == country]['capacity_mw'].values[0] #calculate the cap of the selected country\n",
    "    proportions = [top10_countries_total, selected_country_cap,]\n",
    "    \n",
    "    plt.figure(figsize = (16,8))\n",
    "    plt.pie(proportions,  labels = ['Worldwide', country],  autopct='%1.0f%%', startangle = 90)\n",
    "    plt.title(f'Capacity in MW for {country} comparatively top 10 countries worldwide (total)')\n",
    "     \n",
    "    plt.show()"
   ]
  },
  {
   "cell_type": "code",
   "execution_count": null,
   "id": "49605e75-fcf2-4738-9ec3-a0da7ad9cd06",
   "metadata": {},
   "outputs": [],
   "source": []
  }
 ],
 "metadata": {
  "kernelspec": {
   "display_name": "Python 3 (ipykernel)",
   "language": "python",
   "name": "python3"
  },
  "language_info": {
   "codemirror_mode": {
    "name": "ipython",
    "version": 3
   },
   "file_extension": ".py",
   "mimetype": "text/x-python",
   "name": "python",
   "nbconvert_exporter": "python",
   "pygments_lexer": "ipython3",
   "version": "3.11.4"
  }
 },
 "nbformat": 4,
 "nbformat_minor": 5
}
